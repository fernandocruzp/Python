{
 "cells": [
  {
   "cell_type": "code",
   "execution_count": null,
   "metadata": {},
   "outputs": [],
   "source": [
    "import sys\n",
    "from PyQt5 import uic, QtGui\n",
    "from PyQt5.QtWidgets import QMainWindow, QApplication\n",
    "\n",
    "turno = 1\n",
    "class gato_GUI(QMainWindow):\n",
    "    \n",
    "    def __int__(self):\n",
    "        super().__int__()\n",
    "        uic.loadUi(\"Hola.ui\",self)\n",
    "        self.activo.clicked.connect(self.Activar)\n",
    "        self.desactivo.clicked.connect(self.desactivar)\n",
    "        \n",
    "if __name__ == \"__main__\":\n",
    "    app = QApplication(sys.argv)\n",
    "    GUI = gato_GUI()\n",
    "    GUI.show()\n",
    "    sys.exit(app.exec_())"
   ]
  }
 ],
 "metadata": {
  "kernelspec": {
   "display_name": "Python 3",
   "language": "python",
   "name": "python3"
  },
  "language_info": {
   "codemirror_mode": {
    "name": "ipython",
    "version": 3
   },
   "file_extension": ".py",
   "mimetype": "text/x-python",
   "name": "python",
   "nbconvert_exporter": "python",
   "pygments_lexer": "ipython3",
   "version": "3.8.3"
  }
 },
 "nbformat": 4,
 "nbformat_minor": 4
}
