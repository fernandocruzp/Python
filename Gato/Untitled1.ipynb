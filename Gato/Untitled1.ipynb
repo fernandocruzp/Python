{
 "cells": [
  {
   "cell_type": "code",
   "execution_count": 1,
   "metadata": {},
   "outputs": [
    {
     "ename": "NameError",
     "evalue": "name 'uic' is not defined",
     "output_type": "error",
     "traceback": [
      "\u001b[1;31m---------------------------------------------------------------------------\u001b[0m",
      "\u001b[1;31mNameError\u001b[0m                                 Traceback (most recent call last)",
      "\u001b[1;32m<ipython-input-1-9ae9fef4a8c5>\u001b[0m in \u001b[0;36m<module>\u001b[1;34m\u001b[0m\n\u001b[0;32m     56\u001b[0m \u001b[1;32mif\u001b[0m \u001b[0m__name__\u001b[0m \u001b[1;33m==\u001b[0m \u001b[1;34m\"__main__\"\u001b[0m\u001b[1;33m:\u001b[0m\u001b[1;33m\u001b[0m\u001b[1;33m\u001b[0m\u001b[0m\n\u001b[0;32m     57\u001b[0m     \u001b[0mapp\u001b[0m \u001b[1;33m=\u001b[0m \u001b[0mQApplication\u001b[0m\u001b[1;33m(\u001b[0m\u001b[0msys\u001b[0m\u001b[1;33m.\u001b[0m\u001b[0margv\u001b[0m\u001b[1;33m)\u001b[0m\u001b[1;33m\u001b[0m\u001b[1;33m\u001b[0m\u001b[0m\n\u001b[1;32m---> 58\u001b[1;33m     \u001b[0mGUI\u001b[0m \u001b[1;33m=\u001b[0m \u001b[0mgato_GUI\u001b[0m\u001b[1;33m(\u001b[0m\u001b[1;33m)\u001b[0m\u001b[1;33m\u001b[0m\u001b[1;33m\u001b[0m\u001b[0m\n\u001b[0m\u001b[0;32m     59\u001b[0m     \u001b[0mGUI\u001b[0m\u001b[1;33m.\u001b[0m\u001b[0mshow\u001b[0m\u001b[1;33m(\u001b[0m\u001b[1;33m)\u001b[0m\u001b[1;33m\u001b[0m\u001b[1;33m\u001b[0m\u001b[0m\n\u001b[0;32m     60\u001b[0m     \u001b[0msys\u001b[0m\u001b[1;33m.\u001b[0m\u001b[0mexit\u001b[0m\u001b[1;33m(\u001b[0m\u001b[0mapp\u001b[0m\u001b[1;33m.\u001b[0m\u001b[0mexec_\u001b[0m\u001b[1;33m(\u001b[0m\u001b[1;33m)\u001b[0m\u001b[1;33m)\u001b[0m\u001b[1;33m\u001b[0m\u001b[1;33m\u001b[0m\u001b[0m\n",
      "\u001b[1;32m<ipython-input-1-9ae9fef4a8c5>\u001b[0m in \u001b[0;36m__init__\u001b[1;34m(self)\u001b[0m\n\u001b[0;32m      7\u001b[0m     \u001b[1;32mdef\u001b[0m \u001b[0m__init__\u001b[0m\u001b[1;33m(\u001b[0m\u001b[0mself\u001b[0m\u001b[1;33m)\u001b[0m\u001b[1;33m:\u001b[0m\u001b[1;33m\u001b[0m\u001b[1;33m\u001b[0m\u001b[0m\n\u001b[0;32m      8\u001b[0m         \u001b[0msuper\u001b[0m\u001b[1;33m(\u001b[0m\u001b[1;33m)\u001b[0m\u001b[1;33m.\u001b[0m\u001b[0m__init__\u001b[0m\u001b[1;33m(\u001b[0m\u001b[1;33m)\u001b[0m\u001b[1;33m\u001b[0m\u001b[1;33m\u001b[0m\u001b[0m\n\u001b[1;32m----> 9\u001b[1;33m         \u001b[0muic\u001b[0m\u001b[1;33m.\u001b[0m\u001b[0mloadUi\u001b[0m\u001b[1;33m(\u001b[0m\u001b[1;34m\"JuegoGato.ui\"\u001b[0m\u001b[1;33m,\u001b[0m\u001b[0mself\u001b[0m\u001b[1;33m)\u001b[0m\u001b[1;33m\u001b[0m\u001b[1;33m\u001b[0m\u001b[0m\n\u001b[0m\u001b[0;32m     10\u001b[0m         \u001b[0mself\u001b[0m\u001b[1;33m.\u001b[0m\u001b[0mB1\u001b[0m\u001b[1;33m.\u001b[0m\u001b[0mclicked\u001b[0m\u001b[1;33m.\u001b[0m\u001b[0mconnect\u001b[0m\u001b[1;33m(\u001b[0m\u001b[0mself\u001b[0m\u001b[1;33m.\u001b[0m\u001b[0mtiro1\u001b[0m\u001b[1;33m)\u001b[0m\u001b[1;33m\u001b[0m\u001b[1;33m\u001b[0m\u001b[0m\n\u001b[0;32m     11\u001b[0m         \u001b[0mself\u001b[0m\u001b[1;33m.\u001b[0m\u001b[0mB2\u001b[0m\u001b[1;33m.\u001b[0m\u001b[0mclicked\u001b[0m\u001b[1;33m.\u001b[0m\u001b[0mconnect\u001b[0m\u001b[1;33m(\u001b[0m\u001b[0mself\u001b[0m\u001b[1;33m.\u001b[0m\u001b[0mtiro2\u001b[0m\u001b[1;33m)\u001b[0m\u001b[1;33m\u001b[0m\u001b[1;33m\u001b[0m\u001b[0m\n",
      "\u001b[1;31mNameError\u001b[0m: name 'uic' is not defined"
     ]
    }
   ],
   "source": [
    "import sys\n",
    "import PyQt5\n",
    "from PyQt5.QtWidgets import QMainWindow, QApplication\n",
    "t=1\n",
    "class gato_GUI(QMainWindow):\n",
    "\n",
    "    def __init__(self):\n",
    "        super().__init__()\n",
    "        uic.loadUi(\"JuegoGato.ui\",self)\n",
    "        self.B1.clicked.connect(self.tiro1)\n",
    "        self.B2.clicked.connect(self.tiro2)\n",
    "        self.B3.clicked.connect(self.tiro3)\n",
    "        self.B4.clicked.connect(self.tiro4)\n",
    "        self.B5.clicked.connect(self.tiro5)\n",
    "        self.B6.clicked.connect(self.tiro6)\n",
    "        self.B7.clicked.connect(self.tiro7)\n",
    "        self.B8.clicked.connect(self.tiro8)\n",
    "        self.B9.clicked.connect(self.tiro9)\n",
    "    \n",
    "    def tiro1(self): self.b_disable(1,t)\n",
    "    def tiro2(self): self.b_disable(2,t)\n",
    "    def tiro3(self): self.b_disable(3,t)    \n",
    "    def tiro4(self): self.b_disable(4,t)\n",
    "    def tiro5(self): self.b_disable(5,t)\n",
    "    def tiro6(self): self.b_disable(6,t)\n",
    "    def tiro7(self): self.b_disable(7,t)\n",
    "    def tiro8(self): self.b_disable(8,t)\n",
    "    def tiro9(self): self.b_disable(9,t)\n",
    "\n",
    "    def b_disable(self,boton,turno):\n",
    "        global t\n",
    "        if turno == 1 : \n",
    "            if boton == 1: self.B1.setIcon(QtGui.QIcon(\"O.jpg\")); self.B1.setEnabled(False)\n",
    "            if boton == 2: self.B2.setIcon(QtGui.QIcon(\"O.jpg\")); self.B2.setEnabled(False)\n",
    "            if boton == 3: self.B3.setIcon(QtGui.QIcon(\"O.jpg\")); self.B3.setEnabled(False)\n",
    "            if boton == 4: self.B4.setIcon(QtGui.QIcon(\"O.jpg\")); self.B4.setEnabled(False)\n",
    "            if boton == 5: self.B5.setIcon(QtGui.QIcon(\"O.jpg\")); self.B5.setEnabled(False)\n",
    "            if boton == 6: self.B6.setIcon(QtGui.QIcon(\"O.jpg\")); self.B6.setEnabled(False)\n",
    "            if boton == 7: self.B7.setIcon(QtGui.QIcon(\"O.jpg\")); self.B7.setEnabled(False)\n",
    "            if boton == 8: self.B8.setIcon(QtGui.QIcon(\"O.jpg\")); self.B8.setEnabled(False)\n",
    "            if boton == 9: self.B9.setIcon(QtGui.QIcon(\"O.jpg\")); self.B9.setEnabled(False)\n",
    "            t = 2\n",
    "        else : \n",
    "            if boton == 1: self.B1.setIcon(QtGui.QIcon(\"X.jpg\")); self.B1.setEnabled(False)\n",
    "            if boton == 2: self.B2.setIcon(QtGui.QIcon(\"X.jpg\")); self.B2.setEnabled(False)\n",
    "            if boton == 3: self.B3.setIcon(QtGui.QIcon(\"X.jpg\")); self.B3.setEnabled(False)\n",
    "            if boton == 4: self.B4.setIcon(QtGui.QIcon(\"X.jpg\")); self.B4.setEnabled(False)\n",
    "            if boton == 5: self.B5.setIcon(QtGui.QIcon(\"X.jpg\")); self.B5.setEnabled(False)\n",
    "            if boton == 6: self.B6.setIcon(QtGui.QIcon(\"X.jpg\")); self.B6.setEnabled(False)\n",
    "            if boton == 7: self.B7.setIcon(QtGui.QIcon(\"X.jpg\")); self.B7.setEnabled(False)\n",
    "            if boton == 8: self.B8.setIcon(QtGui.QIcon(\"X.jpg\")); self.B8.setEnabled(False)\n",
    "            if boton == 9: self.B9.setIcon(QtGui.QIcon(\"X.jpg\")); self.B9.setEnabled(False)\n",
    "            t = 1\n",
    "            \n",
    "        \n",
    "if __name__ == \"__main__\":\n",
    "    app = QApplication(sys.argv)\n",
    "    GUI = gato_GUI()\n",
    "    GUI.show()\n",
    "    sys.exit(app.exec_())"
   ]
  },
  {
   "cell_type": "code",
   "execution_count": null,
   "metadata": {},
   "outputs": [],
   "source": []
  }
 ],
 "metadata": {
  "kernelspec": {
   "display_name": "Python 3",
   "language": "python",
   "name": "python3"
  },
  "language_info": {
   "codemirror_mode": {
    "name": "ipython",
    "version": 3
   },
   "file_extension": ".py",
   "mimetype": "text/x-python",
   "name": "python",
   "nbconvert_exporter": "python",
   "pygments_lexer": "ipython3",
   "version": "3.8.3"
  }
 },
 "nbformat": 4,
 "nbformat_minor": 4
}
